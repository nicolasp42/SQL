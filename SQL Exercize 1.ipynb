{
 "cells": [
  {
   "cell_type": "code",
   "execution_count": 3,
   "metadata": {
    "collapsed": true
   },
   "outputs": [],
   "source": [
    "import pandas as pd\n",
    "import csv, sqlite3"
   ]
  },
  {
   "cell_type": "code",
   "execution_count": 6,
   "metadata": {},
   "outputs": [
    {
     "data": {
      "text/html": [
       "<div>\n",
       "<style>\n",
       "    .dataframe thead tr:only-child th {\n",
       "        text-align: right;\n",
       "    }\n",
       "\n",
       "    .dataframe thead th {\n",
       "        text-align: left;\n",
       "    }\n",
       "\n",
       "    .dataframe tbody tr th {\n",
       "        vertical-align: top;\n",
       "    }\n",
       "</style>\n",
       "<table border=\"1\" class=\"dataframe\">\n",
       "  <thead>\n",
       "    <tr style=\"text-align: right;\">\n",
       "      <th></th>\n",
       "      <th>type</th>\n",
       "      <th>name</th>\n",
       "      <th>tbl_name</th>\n",
       "      <th>rootpage</th>\n",
       "      <th>sql</th>\n",
       "    </tr>\n",
       "  </thead>\n",
       "  <tbody>\n",
       "    <tr>\n",
       "      <th>0</th>\n",
       "      <td>table</td>\n",
       "      <td>sqlite_sequence</td>\n",
       "      <td>sqlite_sequence</td>\n",
       "      <td>3</td>\n",
       "      <td>CREATE TABLE sqlite_sequence(name,seq)</td>\n",
       "    </tr>\n",
       "    <tr>\n",
       "      <th>1</th>\n",
       "      <td>table</td>\n",
       "      <td>facts</td>\n",
       "      <td>facts</td>\n",
       "      <td>47</td>\n",
       "      <td>CREATE TABLE \"facts\" (\"id\" INTEGER PRIMARY KEY...</td>\n",
       "    </tr>\n",
       "  </tbody>\n",
       "</table>\n",
       "</div>"
      ],
      "text/plain": [
       "    type             name         tbl_name  rootpage  \\\n",
       "0  table  sqlite_sequence  sqlite_sequence         3   \n",
       "1  table            facts            facts        47   \n",
       "\n",
       "                                                 sql  \n",
       "0             CREATE TABLE sqlite_sequence(name,seq)  \n",
       "1  CREATE TABLE \"facts\" (\"id\" INTEGER PRIMARY KEY...  "
      ]
     },
     "execution_count": 6,
     "metadata": {},
     "output_type": "execute_result"
    }
   ],
   "source": [
    "conn = sqlite3.connect('factbook.db')\n",
    "\n",
    "q = 'SELECT * FROM sqlite_master WHERE type=\"table\";'\n",
    "pd.read_sql_query(q, conn)"
   ]
  },
  {
   "cell_type": "code",
   "execution_count": 7,
   "metadata": {},
   "outputs": [
    {
     "name": "stdout",
     "output_type": "stream",
     "text": [
      "(1, 'af', 'Afghanistan', 652230, 652230, 0, 32564342, 2.32, 38.57, 13.89, 1.51)\n",
      "(2, 'al', 'Albania', 28748, 27398, 1350, 3029278, 0.3, 12.92, 6.58, 3.3)\n",
      "(3, 'ag', 'Algeria', 2381741, 2381741, 0, 39542166, 1.84, 23.67, 4.31, 0.92)\n",
      "(4, 'an', 'Andorra', 468, 468, 0, 85580, 0.12, 8.13, 6.96, 0.0)\n",
      "(5, 'ao', 'Angola', 1246700, 1246700, 0, 19625353, 2.78, 38.78, 11.49, 0.46)\n"
     ]
    }
   ],
   "source": [
    "first_query = \"\"\"\n",
    "SELECT *\n",
    "FROM facts\n",
    "LIMIT 5\n",
    "\"\"\"\n",
    "results = conn.execute(first_query).fetchall()\n",
    "\n",
    "for row in results:\n",
    "    print(row)"
   ]
  },
  {
   "cell_type": "code",
   "execution_count": 15,
   "metadata": {},
   "outputs": [
    {
     "name": "stdout",
     "output_type": "stream",
     "text": [
      "(0,)\n"
     ]
    }
   ],
   "source": [
    "second_query = \"\"\"\n",
    "SELECT MIN(population)\n",
    "FROM facts\n",
    "\"\"\"\n",
    "results = conn.execute(second_query).fetchall()\n",
    "\n",
    "for row in results:\n",
    "    print(row)"
   ]
  },
  {
   "cell_type": "code",
   "execution_count": 10,
   "metadata": {},
   "outputs": [
    {
     "name": "stdout",
     "output_type": "stream",
     "text": [
      "(7256490011,)\n"
     ]
    }
   ],
   "source": [
    "third_query = \"\"\"\n",
    "SELECT MAX(population)\n",
    "FROM facts\n",
    "\"\"\"\n",
    "results = conn.execute(third_query).fetchall()\n",
    "\n",
    "for row in results:\n",
    "    print(row)"
   ]
  },
  {
   "cell_type": "code",
   "execution_count": 14,
   "metadata": {},
   "outputs": [
    {
     "name": "stdout",
     "output_type": "stream",
     "text": [
      "(0.0,)\n"
     ]
    }
   ],
   "source": [
    "fourth_query = \"\"\"\n",
    "SELECT MIN(population_growth)\n",
    "FROM facts\n",
    "\"\"\"\n",
    "results = conn.execute(fourth_query).fetchall()\n",
    "\n",
    "for row in results:\n",
    "    print(row)"
   ]
  },
  {
   "cell_type": "code",
   "execution_count": 13,
   "metadata": {},
   "outputs": [
    {
     "name": "stdout",
     "output_type": "stream",
     "text": [
      "(4.02,)\n"
     ]
    }
   ],
   "source": [
    "fourth_query = \"\"\"\n",
    "SELECT MAX(population_growth)\n",
    "FROM facts\n",
    "\"\"\"\n",
    "results = conn.execute(fourth_query).fetchall()\n",
    "\n",
    "for row in results:\n",
    "    print(row)"
   ]
  },
  {
   "cell_type": "code",
   "execution_count": 19,
   "metadata": {},
   "outputs": [
    {
     "name": "stdout",
     "output_type": "stream",
     "text": [
      "('World', 7256490011)\n"
     ]
    }
   ],
   "source": [
    "fifth_query = \"\"\"\n",
    "SELECT Name, MAX(population) \n",
    "FROM facts\n",
    "\"\"\"\n",
    "results = conn.execute(fifth_query).fetchall()\n",
    "\n",
    "for row in results:\n",
    "    print(row)"
   ]
  },
  {
   "cell_type": "code",
   "execution_count": 21,
   "metadata": {},
   "outputs": [
    {
     "name": "stdout",
     "output_type": "stream",
     "text": [
      "('Antarctica', 0)\n"
     ]
    }
   ],
   "source": [
    "sixth_query = \"\"\"\n",
    "SELECT Name, MIN(population) \n",
    "FROM facts\n",
    "\"\"\"\n",
    "results = conn.execute(sixth_query).fetchall()\n",
    "\n",
    "for row in results:\n",
    "    print(row)"
   ]
  },
  {
   "cell_type": "code",
   "execution_count": 42,
   "metadata": {},
   "outputs": [
    {
     "name": "stdout",
     "output_type": "stream",
     "text": [
      "(32564342, 2.32, 38.57, 13.89)\n",
      "(3029278, 0.3, 12.92, 6.58)\n",
      "(39542166, 1.84, 23.67, 4.31)\n",
      "(85580, 0.12, 8.13, 6.96)\n",
      "(19625353, 2.78, 38.78, 11.49)\n",
      "(92436, 1.24, 15.85, 5.69)\n",
      "(43431886, 0.93, 16.64, 7.33)\n",
      "(3056382, 0.15, 13.61, 9.34)\n",
      "(22751014, 1.07, 12.15, 7.14)\n",
      "(8665550, 0.55, 9.41, 9.42)\n",
      "(9780780, 0.96, 16.64, 7.07)\n",
      "(324597, 0.85, 15.5, 7.05)\n",
      "(1346613, 2.41, 13.66, 2.69)\n",
      "(168957745, 1.6, 21.14, 5.61)\n",
      "(290604, 0.31, 11.87, 8.44)\n",
      "(9589689, 0.2, 10.7, 13.36)\n",
      "(11323973, 0.76, 11.41, 9.63)\n",
      "(347369, 1.87, 24.68, 5.97)\n",
      "(10448647, 2.78, 36.02, 8.21)\n",
      "(741919, 1.11, 17.78, 6.69)\n",
      "(10800882, 1.56, 22.76, 6.52)\n",
      "(3867055, 0.13, 8.87, 9.75)\n",
      "(2182719, 1.21, 20.96, 13.39)\n",
      "(204259812, 0.77, 14.46, 6.58)\n",
      "(429646, 1.62, 17.32, 3.52)\n",
      "(7186893, 0.58, 8.92, 14.44)\n",
      "(18931686, 3.03, 42.03, 11.72)\n",
      "(56320206, 1.01, 18.39, 7.96)\n",
      "(10742276, 3.28, 42.01, 9.27)\n",
      "(15708756, 1.58, 23.83, 7.68)\n",
      "(23739218, 2.59, 36.17, 10.11)\n",
      "(35099836, 0.75, 10.28, 8.42)\n",
      "(545993, 1.36, 20.33, 6.11)\n",
      "(5391539, 2.13, 35.08, 13.8)\n",
      "(11631456, 1.89, 36.6, 14.28)\n",
      "(17508260, 0.82, 13.83, 6.0)\n",
      "(1367485388, 0.45, 12.49, 7.53)\n",
      "(46736728, 1.04, 16.47, 5.4)\n",
      "(780971, 1.77, 27.84, 7.57)\n",
      "(79375136, 2.45, 34.88, 10.07)\n",
      "(4755097, 2.0, 35.85, 10.0)\n",
      "(4814144, 1.22, 15.91, 4.55)\n",
      "(23295302, 1.91, 28.67, 9.55)\n",
      "(4464844, 0.13, 9.45, 12.18)\n",
      "(11031433, 0.15, 9.9, 7.72)\n",
      "(1189197, 1.43, 11.41, 6.62)\n",
      "(10644842, 0.16, 9.63, 10.34)\n",
      "(5581503, 0.22, 10.27, 10.25)\n",
      "(828324, 2.2, 23.65, 7.73)\n",
      "(73607, 0.21, 15.41, 7.91)\n",
      "(10478756, 1.23, 18.73, 4.55)\n",
      "(15868396, 1.35, 18.51, 5.06)\n",
      "(88487396, 1.79, 22.9, 4.77)\n",
      "(6141350, 0.25, 16.46, 5.69)\n",
      "(740743, 2.51, 33.31, 8.19)\n",
      "(6527689, 2.25, 30.0, 7.52)\n",
      "(1265420, 0.55, 10.51, 12.4)\n",
      "(99465819, 2.89, 37.27, 8.19)\n",
      "(909389, 0.67, 19.43, 6.04)\n",
      "(5476922, 0.4, 10.72, 9.83)\n",
      "(66553766, 0.43, 12.38, 9.16)\n",
      "(1705336, 1.93, 34.49, 13.12)\n",
      "(1967709, 2.16, 30.86, 7.15)\n",
      "(4931226, 0.08, 12.74, 10.82)\n",
      "(80854408, 0.17, 8.47, 11.42)\n",
      "(26327649, 2.18, 31.09, 7.22)\n",
      "(10775643, 0.01, 8.66, 11.09)\n",
      "(110694, 0.48, 16.03, 8.08)\n",
      "(14918999, 1.82, 24.89, 4.77)\n",
      "(11780162, 2.63, 35.74, 9.46)\n",
      "(1726170, 1.91, 33.38, 14.33)\n",
      "(735222, 0.02, 15.59, 7.32)\n",
      "(10110019, 1.17, 22.31, 7.83)\n",
      "(8746673, 1.68, 23.14, 5.17)\n",
      "(9897541, 0.22, 9.16, 12.73)\n",
      "(331918, 1.21, 13.91, 6.28)\n",
      "(1251695584, 1.22, 19.55, 7.32)\n",
      "(255993674, 0.92, 16.72, 6.37)\n",
      "(81824270, 1.2, 17.99, 5.94)\n",
      "(37056169, 2.93, 31.45, 3.77)\n",
      "(4892305, 1.25, 14.84, 6.48)\n",
      "(8049314, 1.56, 18.48, 5.15)\n",
      "(61855120, 0.27, 8.74, 10.19)\n",
      "(2950210, 0.68, 18.16, 6.7)\n",
      "(126919659, 0.16, 7.93, 9.51)\n",
      "(8117564, 0.83, 25.37, 3.79)\n",
      "(18157122, 1.14, 19.15, 8.21)\n",
      "(45925301, 1.93, 26.4, 6.89)\n",
      "(105711, 1.15, 21.46, 7.12)\n",
      "(24983205, 0.53, 14.52, 9.21)\n",
      "(49115196, 0.14, 8.19, 6.75)\n",
      "(1870981, None, None, None)\n",
      "(2788534, 1.62, 19.91, 2.18)\n",
      "(5664939, 1.11, 22.98, 6.65)\n",
      "(6911544, 1.55, 24.25, 7.63)\n",
      "(1986705, 1.06, 10.0, 14.31)\n",
      "(6184701, 0.86, 14.59, 4.88)\n",
      "(1947701, 0.32, 25.47, 14.89)\n",
      "(4195666, 2.47, 34.41, 9.69)\n",
      "(6411776, 2.23, 18.03, 3.58)\n",
      "(37624, 0.84, 10.45, 7.12)\n",
      "(2884433, 1.04, 10.1, 14.27)\n",
      "(570252, 2.13, 11.37, 7.24)\n",
      "(2096015, 0.2, 11.55, 9.08)\n",
      "(23812681, 2.58, 32.61, 6.81)\n",
      "(17964697, 3.32, 41.56, 8.41)\n",
      "(30513848, 1.44, 19.71, 5.03)\n",
      "(393253, 0.08, 15.75, 3.89)\n",
      "(16955536, 2.98, 44.99, 12.89)\n",
      "(413965, 0.31, 10.18, 9.09)\n",
      "(72191, 1.66, 25.6, 4.21)\n",
      "(3596702, 2.23, 31.34, 8.2)\n",
      "(1339827, 0.64, 13.29, 6.91)\n",
      "(121736809, 1.18, 18.78, 5.26)\n",
      "(105216, 0.46, 20.54, 4.23)\n",
      "(3546847, 1.03, 12.0, 12.59)\n",
      "(30535, 0.12, 6.65, 9.24)\n",
      "(2992908, 1.31, 20.25, 6.35)\n",
      "(647073, 0.42, 10.42, 9.43)\n",
      "(33322699, 1.0, 18.2, 4.81)\n",
      "(25303113, 2.45, 38.58, 12.1)\n",
      "(2212307, 0.59, 19.8, 13.91)\n",
      "(9540, 0.55, 24.95, 5.87)\n",
      "(31551305, 1.79, 20.64, 6.56)\n",
      "(16947904, 0.41, 10.83, 8.66)\n",
      "(4438393, 0.82, 13.33, 7.36)\n",
      "(5907881, 1.0, 18.03, 5.08)\n",
      "(18045729, 3.25, 45.45, 12.42)\n",
      "(181562056, 2.45, 37.64, 12.9)\n",
      "(5207689, 1.13, 12.14, 8.12)\n",
      "(3286936, 2.07, 24.44, 3.36)\n",
      "(199085847, 1.46, 22.58, 6.49)\n",
      "(21265, 0.38, 11.05, 7.99)\n",
      "(3657024, 1.32, 18.32, 4.81)\n",
      "(6672429, 1.78, 24.38, 6.53)\n",
      "(6783272, 1.16, 16.37, 4.68)\n",
      "(30444999, 0.97, 18.28, 6.01)\n",
      "(100998376, 1.61, 24.27, 6.11)\n",
      "(38562189, 0.09, 9.74, 10.19)\n",
      "(10825309, 0.09, 9.27, 11.02)\n",
      "(2194817, 3.07, 9.84, 1.53)\n",
      "(21666350, 0.3, 9.14, 11.9)\n",
      "(142423773, 0.04, 11.6, 13.69)\n",
      "(12661733, 2.56, 33.75, 8.96)\n",
      "(51936, 0.76, 13.5, 7.09)\n",
      "(163922, 0.34, 13.7, 7.42)\n",
      "(102627, 0.28, 13.57, 7.18)\n",
      "(197773, 0.58, 20.87, 5.32)\n",
      "(33020, 0.82, 8.63, 8.45)\n",
      "(194006, 1.84, 34.23, 7.24)\n",
      "(27752316, 1.46, 18.51, 3.33)\n",
      "(13975834, 2.45, 34.52, 8.46)\n",
      "(7176794, 0.46, 9.08, 13.66)\n",
      "(92430, 0.83, 14.19, 6.89)\n",
      "(5879098, 2.35, 37.03, 10.81)\n",
      "(5674472, 1.89, 8.27, 3.43)\n",
      "(5445027, 0.02, 9.91, 9.74)\n",
      "(1983412, 0.26, 8.42, 11.37)\n",
      "(622469, 2.02, 25.77, 3.85)\n",
      "(10616380, 1.83, 40.45, 13.62)\n",
      "(53675563, 1.33, 20.75, 9.91)\n",
      "(12042910, 4.02, 36.91, 8.18)\n",
      "(48146134, 0.89, 9.64, 9.04)\n",
      "(22053488, 0.84, 15.85, 6.11)\n",
      "(36108853, 1.72, 29.19, 7.66)\n",
      "(579633, 1.08, 16.34, 6.13)\n",
      "(1435613, 1.11, 24.67, 13.56)\n",
      "(9801616, 0.8, 11.99, 9.4)\n",
      "(8121830, 0.71, 10.5, 8.13)\n",
      "(17064854, 0.16, 22.17, 4.0)\n",
      "(8191958, 1.71, 24.38, 6.18)\n",
      "(51045882, 2.79, 36.39, 8.0)\n",
      "(67976405, 0.34, 11.19, 7.8)\n",
      "(1231116, 2.42, 34.16, 6.1)\n",
      "(7552318, 2.69, 34.13, 7.26)\n",
      "(106501, 0.03, 23.0, 4.85)\n",
      "(1222363, 0.13, 13.46, 8.56)\n",
      "(11037225, 0.89, 16.64, 5.98)\n",
      "(79414269, 1.26, 16.33, 5.88)\n",
      "(5231422, 1.14, 19.4, 6.13)\n",
      "(10869, 0.82, 23.74, 8.74)\n",
      "(37101745, 3.24, 43.79, 10.69)\n",
      "(44429471, 0.6, 10.72, 14.46)\n",
      "(5779760, 2.58, 15.43, 1.97)\n",
      "(64088222, 0.54, 12.17, 9.35)\n",
      "(321368864, 0.78, 12.49, 8.15)\n",
      "(3341893, 0.27, 13.07, 9.45)\n",
      "(29199942, 0.93, 17.0, 5.3)\n",
      "(272264, 1.95, 25.04, 4.09)\n",
      "(842, 0.0, None, None)\n",
      "(29275460, 1.39, 19.16, 5.31)\n",
      "(94348835, 0.97, 15.96, 5.93)\n",
      "(26737317, 2.47, 29.98, 6.28)\n",
      "(15066266, 2.88, 42.13, 12.67)\n",
      "(14229541, 2.21, 32.26, 10.13)\n",
      "(23415126, 0.23, 8.47, 7.11)\n",
      "(513949445, 0.25, 10.2, 10.2)\n",
      "(1530, 1.11, None, None)\n",
      "(596, 0.0, None, None)\n",
      "(2210, 0.01, None, None)\n",
      "(7141106, 0.38, 9.23, 7.07)\n",
      "(592731, 0.8, 8.88, 4.22)\n",
      "(50196, 0.51, 13.77, 8.71)\n",
      "(57733, 0.0, 14.48, 8.49)\n",
      "(282703, 0.94, 15.22, 5.02)\n",
      "(271615, 1.38, 15.33, 5.52)\n",
      "(7237, None, None, None)\n",
      "(31754, None, None, None)\n",
      "(5657, 1.08, 7.42, 9.72)\n",
      "(15613, 0.33, 13.45, 5.06)\n",
      "(112162, 1.33, 12.56, 8.18)\n",
      "(148406, 0.43, 13.8, 8.2)\n",
      "(39689, 1.51, 13.0, 4.51)\n",
      "(9838, 2.95, 14.33, 8.03)\n",
      "(1190, 0.03, None, None)\n",
      "(1337, 0.01, None, None)\n",
      "(1872, 0.03, None, None)\n",
      "(15700, None, None, None)\n",
      "(16418, 2.03, 12.67, 4.57)\n",
      "(70196, 0.5, 11.33, 8.23)\n",
      "(33454, 2.32, 10.91, 4.99)\n",
      "(56092, 2.1, 12.11, 5.53)\n",
      "(15700, None, None, None)\n",
      "(3361, 0.01, 10.9, 4.9)\n",
      "(29258, 0.24, 14.08, 8.37)\n",
      "(66080, 0.34, 9.84, 8.78)\n",
      "(97294, 0.8, 11.91, 7.68)\n",
      "(87545, 0.76, 11.1, 10.06)\n",
      "(5241, 0.5, 11.26, 6.3)\n",
      "(48, 0.0, None, None)\n",
      "(7795, 0.24, 9.88, 7.44)\n",
      "(50280, 2.3, 16.13, 3.1)\n",
      "(54343, 0.3, 22.89, 4.75)\n",
      "(161785, 0.54, 16.82, 5.12)\n",
      "(52344, 2.18, 18.32, 3.71)\n",
      "(3598357, 0.6, 10.86, 8.67)\n",
      "(103574, 0.59, 10.31, 8.54)\n",
      "(1869055, 2.81, 31.11, 3.04)\n",
      "(2785366, 1.95, 22.99, 3.5)\n",
      "(570866, 2.82, 30.24, 8.34)\n"
     ]
    }
   ],
   "source": [
    "seventh_query = \"\"\"\n",
    "SELECT Population, population_growth, birth_rate, death_rate\n",
    "From facts\n",
    "Where population != (SELECT MAX(population) from facts)\n",
    "AND population != (SELECT MIN(population) from facts)\n",
    "\"\"\"\n",
    "results = conn.execute(seventh_query).fetchall()\n",
    "\n",
    "for row in results:\n",
    "    print(row)"
   ]
  },
  {
   "cell_type": "code",
   "execution_count": null,
   "metadata": {},
   "outputs": [],
   "source": [
    "results= results.fillna(0).astype(int)"
   ]
  },
  {
   "cell_type": "code",
   "execution_count": 39,
   "metadata": {
    "collapsed": true
   },
   "outputs": [],
   "source": [
    "%matplotlib inline"
   ]
  },
  {
   "cell_type": "code",
   "execution_count": null,
   "metadata": {},
   "outputs": [],
   "source": [
    "pd.DataFrame.hist(results)"
   ]
  },
  {
   "cell_type": "code",
   "execution_count": 45,
   "metadata": {},
   "outputs": [
    {
     "name": "stdout",
     "output_type": "stream",
     "text": [
      "('Macau', 21168.964285714286)\n"
     ]
    }
   ],
   "source": [
    "eighth_query = \"\"\"\n",
    "SELECT Name, MAX((CAST(Population as float) / CAST(AREA as float)))\n",
    "From facts\n",
    "\"\"\"\n",
    "results = conn.execute(eighth_query).fetchall()\n",
    "\n",
    "for row in results:\n",
    "    print(row)"
   ]
  },
  {
   "cell_type": "code",
   "execution_count": 46,
   "metadata": {},
   "outputs": [
    {
     "name": "stdout",
     "output_type": "stream",
     "text": [
      "('British Indian Ocean Territory', 0.9988970588235294)\n"
     ]
    }
   ],
   "source": [
    "nineth_query = \"\"\"\n",
    "SELECT Name, MAX((CAST(Area_water as float) / CAST(AREA as float)))\n",
    "From facts\n",
    "\"\"\"\n",
    "results = conn.execute(nineth_query).fetchall()\n",
    "\n",
    "for row in results:\n",
    "    print(row)"
   ]
  },
  {
   "cell_type": "code",
   "execution_count": 49,
   "metadata": {},
   "outputs": [
    {
     "name": "stdout",
     "output_type": "stream",
     "text": [
      "('British Indian Ocean Territory', 0.9988970588235294)\n",
      "('Virgin Islands', 0.818848167539267)\n"
     ]
    }
   ],
   "source": [
    "tenth_query = \"\"\"\n",
    "SELECT Name, (CAST(Area_water as float) / CAST(AREA as float)) as Water\n",
    "From facts\n",
    "WHERE water > 0.5\n",
    "\"\"\"\n",
    "results = conn.execute(tenth_query).fetchall()\n",
    "\n",
    "for row in results:\n",
    "    print(row)"
   ]
  },
  {
   "cell_type": "code",
   "execution_count": null,
   "metadata": {
    "collapsed": true
   },
   "outputs": [],
   "source": []
  }
 ],
 "metadata": {
  "kernelspec": {
   "display_name": "Python 3",
   "language": "python",
   "name": "python3"
  },
  "language_info": {
   "codemirror_mode": {
    "name": "ipython",
    "version": 3
   },
   "file_extension": ".py",
   "mimetype": "text/x-python",
   "name": "python",
   "nbconvert_exporter": "python",
   "pygments_lexer": "ipython3",
   "version": "3.7.0"
  }
 },
 "nbformat": 4,
 "nbformat_minor": 2
}
